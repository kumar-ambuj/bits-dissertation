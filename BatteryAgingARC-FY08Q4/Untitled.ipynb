{
 "cells": [
  {
   "cell_type": "code",
   "execution_count": 35,
   "id": "038d44d8-9dc6-4ae2-99af-ae693c5a8b46",
   "metadata": {},
   "outputs": [
    {
     "name": "stdout",
     "output_type": "stream",
     "text": [
      "Original vector:\n",
      "[3]\n",
      "\n",
      "Binary representation of the said vector:\n",
      "[[0 0 1 1]]\n"
     ]
    }
   ],
   "source": [
    "import numpy as np\n",
    "nums = np.array([0, 1, 2, 3, 15, 16, 32, 64, 128])\n",
    "#nums = np.array([3])\n",
    "print(\"Original vector:\")\n",
    "print(nums)\n",
    "bin_nums = ((nums.reshape(-1,1) & (2**np.arange(4))) != 0).astype(int)\n",
    "print(\"\\nBinary representation of the said vector:\")\n",
    "print(bin_nums[:,::-1])"
   ]
  },
  {
   "cell_type": "code",
   "execution_count": 24,
   "id": "fd82aea2-2c95-4c2e-b22c-cb3684b3136d",
   "metadata": {},
   "outputs": [
    {
     "data": {
      "text/plain": [
       "\u001b[1;31mSignature:\u001b[0m \u001b[0mnp\u001b[0m\u001b[1;33m.\u001b[0m\u001b[0mreshape\u001b[0m\u001b[1;33m(\u001b[0m\u001b[0ma\u001b[0m\u001b[1;33m,\u001b[0m \u001b[0mnewshape\u001b[0m\u001b[1;33m,\u001b[0m \u001b[0morder\u001b[0m\u001b[1;33m=\u001b[0m\u001b[1;34m'C'\u001b[0m\u001b[1;33m)\u001b[0m\u001b[1;33m\u001b[0m\u001b[1;33m\u001b[0m\u001b[0m\n",
       "\u001b[1;31mDocstring:\u001b[0m\n",
       "Gives a new shape to an array without changing its data.\n",
       "\n",
       "Parameters\n",
       "----------\n",
       "a : array_like\n",
       "    Array to be reshaped.\n",
       "newshape : int or tuple of ints\n",
       "    The new shape should be compatible with the original shape. If\n",
       "    an integer, then the result will be a 1-D array of that length.\n",
       "    One shape dimension can be -1. In this case, the value is\n",
       "    inferred from the length of the array and remaining dimensions.\n",
       "order : {'C', 'F', 'A'}, optional\n",
       "    Read the elements of `a` using this index order, and place the\n",
       "    elements into the reshaped array using this index order.  'C'\n",
       "    means to read / write the elements using C-like index order,\n",
       "    with the last axis index changing fastest, back to the first\n",
       "    axis index changing slowest. 'F' means to read / write the\n",
       "    elements using Fortran-like index order, with the first index\n",
       "    changing fastest, and the last index changing slowest. Note that\n",
       "    the 'C' and 'F' options take no account of the memory layout of\n",
       "    the underlying array, and only refer to the order of indexing.\n",
       "    'A' means to read / write the elements in Fortran-like index\n",
       "    order if `a` is Fortran *contiguous* in memory, C-like order\n",
       "    otherwise.\n",
       "\n",
       "Returns\n",
       "-------\n",
       "reshaped_array : ndarray\n",
       "    This will be a new view object if possible; otherwise, it will\n",
       "    be a copy.  Note there is no guarantee of the *memory layout* (C- or\n",
       "    Fortran- contiguous) of the returned array.\n",
       "\n",
       "See Also\n",
       "--------\n",
       "ndarray.reshape : Equivalent method.\n",
       "\n",
       "Notes\n",
       "-----\n",
       "It is not always possible to change the shape of an array without\n",
       "copying the data. If you want an error to be raised when the data is copied,\n",
       "you should assign the new shape to the shape attribute of the array::\n",
       "\n",
       " >>> a = np.zeros((10, 2))\n",
       "\n",
       " # A transpose makes the array non-contiguous\n",
       " >>> b = a.T\n",
       "\n",
       " # Taking a view makes it possible to modify the shape without modifying\n",
       " # the initial object.\n",
       " >>> c = b.view()\n",
       " >>> c.shape = (20)\n",
       " Traceback (most recent call last):\n",
       "    ...\n",
       " AttributeError: Incompatible shape for in-place modification. Use\n",
       " `.reshape()` to make a copy with the desired shape.\n",
       "\n",
       "The `order` keyword gives the index ordering both for *fetching* the values\n",
       "from `a`, and then *placing* the values into the output array.\n",
       "For example, let's say you have an array:\n",
       "\n",
       ">>> a = np.arange(6).reshape((3, 2))\n",
       ">>> a\n",
       "array([[0, 1],\n",
       "       [2, 3],\n",
       "       [4, 5]])\n",
       "\n",
       "You can think of reshaping as first raveling the array (using the given\n",
       "index order), then inserting the elements from the raveled array into the\n",
       "new array using the same kind of index ordering as was used for the\n",
       "raveling.\n",
       "\n",
       ">>> np.reshape(a, (2, 3)) # C-like index ordering\n",
       "array([[0, 1, 2],\n",
       "       [3, 4, 5]])\n",
       ">>> np.reshape(np.ravel(a), (2, 3)) # equivalent to C ravel then C reshape\n",
       "array([[0, 1, 2],\n",
       "       [3, 4, 5]])\n",
       ">>> np.reshape(a, (2, 3), order='F') # Fortran-like index ordering\n",
       "array([[0, 4, 3],\n",
       "       [2, 1, 5]])\n",
       ">>> np.reshape(np.ravel(a, order='F'), (2, 3), order='F')\n",
       "array([[0, 4, 3],\n",
       "       [2, 1, 5]])\n",
       "\n",
       "Examples\n",
       "--------\n",
       ">>> a = np.array([[1,2,3], [4,5,6]])\n",
       ">>> np.reshape(a, 6)\n",
       "array([1, 2, 3, 4, 5, 6])\n",
       ">>> np.reshape(a, 6, order='F')\n",
       "array([1, 4, 2, 5, 3, 6])\n",
       "\n",
       ">>> np.reshape(a, (3,-1))       # the unspecified value is inferred to be 2\n",
       "array([[1, 2],\n",
       "       [3, 4],\n",
       "       [5, 6]])\n",
       "\u001b[1;31mFile:\u001b[0m      c:\\programdata\\anaconda3\\lib\\site-packages\\numpy\\core\\fromnumeric.py\n",
       "\u001b[1;31mType:\u001b[0m      function\n"
      ]
     },
     "metadata": {},
     "output_type": "display_data"
    }
   ],
   "source": [
    "?np.reshape\n",
    "\n"
   ]
  },
  {
   "cell_type": "code",
   "execution_count": 20,
   "id": "ee237b43-fe72-4859-aa9a-ad2e37f36c0f",
   "metadata": {},
   "outputs": [],
   "source": [
    "import numpy as np\n",
    "\n",
    "class test:    \n",
    "    def give_binary(self, arr):\n",
    "        nums = np.array(arr)\n",
    "        #print(\"Original vector:\")\n",
    "        #print(nums)\n",
    "        bin_nums = ((nums.reshape(-1,1) & (2**np.arange(8))) != 0).astype(int)\n",
    "        #print(\"\\nBinary representation of the said vector:\")\n",
    "        #print(bin_nums[:,::-1])\n",
    "        return (bin_nums[:,::-1])\n",
    "\n",
    "    "
   ]
  },
  {
   "cell_type": "code",
   "execution_count": 21,
   "id": "1cb895b8-4300-4051-8926-94744dc0b399",
   "metadata": {},
   "outputs": [
    {
     "data": {
      "text/plain": [
       "array([[0, 0, 0, 0, 0, 0, 0, 0],\n",
       "       [0, 0, 0, 0, 0, 0, 0, 1],\n",
       "       [0, 0, 0, 0, 0, 0, 1, 0],\n",
       "       [0, 0, 0, 0, 0, 0, 1, 1],\n",
       "       [0, 0, 0, 0, 1, 1, 1, 1],\n",
       "       [0, 0, 0, 1, 0, 0, 0, 0],\n",
       "       [0, 0, 1, 0, 0, 0, 0, 0],\n",
       "       [0, 1, 0, 0, 0, 0, 0, 0],\n",
       "       [1, 0, 0, 0, 0, 0, 0, 0]])"
      ]
     },
     "execution_count": 21,
     "metadata": {},
     "output_type": "execute_result"
    }
   ],
   "source": [
    "a1 = test()\n",
    "a1.give_binary([0, 1, 2, 3, 15, 16, 32, 64, 128])"
   ]
  },
  {
   "cell_type": "code",
   "execution_count": 38,
   "id": "20211fc1-5627-4a66-a614-150bd33fc7b1",
   "metadata": {},
   "outputs": [
    {
     "name": "stdout",
     "output_type": "stream",
     "text": [
      "I am a normal method defined inside the abstract class 'Shape'\n",
      "Area of a rectangle: 15\n"
     ]
    }
   ],
   "source": [
    "from abc import ABC\n",
    "\n",
    "class Shape(ABC):\n",
    "    def print(self):\n",
    "        print(\"I am a normal method defined inside the abstract class 'Shape'\")\n",
    "      \n",
    "    def calculate_are(self):\n",
    "        pass\n",
    "\n",
    "class Rectangle(Shape):\n",
    "    length = 5\n",
    "    breadth = 3\n",
    "    def calculate_area(self):\n",
    "        return self.length * self.breadth\n",
    "\n",
    "rec = Rectangle() #object created for the class 'Rectangle'\n",
    "rec.print()\n",
    "print(\"Area of a rectangle:\", rec.calculate_area())\n",
    "\n",
    "#call to 'calculate_area' method defined inside the class 'Rectangle'Output:\n",
    "#I am a normal method defined inside the abstract class 'Shape'\n",
    "#Area of a rectangle: 15"
   ]
  },
  {
   "cell_type": "code",
   "execution_count": 51,
   "id": "01ac556c-44d8-4474-8c9e-655cb4632759",
   "metadata": {},
   "outputs": [
    {
     "name": "stdout",
     "output_type": "stream",
     "text": [
      "2\n"
     ]
    }
   ],
   "source": [
    "class Person:\n",
    "\tdef __init__(self,id):\n",
    "\t\tself.id = id\n",
    "\n",
    "sam = Person(100)\n",
    "\n",
    "sam.__dict__['age'] = 4900000\n",
    "\n",
    "print (len(sam.__dict__))"
   ]
  },
  {
   "cell_type": "code",
   "execution_count": 44,
   "id": "3d4a6d7a-fddf-46a1-b399-7d580f4d62c2",
   "metadata": {},
   "outputs": [
    {
     "name": "stdout",
     "output_type": "stream",
     "text": [
      "Object `(__dict__)` not found.\n"
     ]
    }
   ],
   "source": [
    "?(__dict__)"
   ]
  },
  {
   "cell_type": "code",
   "execution_count": null,
   "id": "3e3ca4f2-07bd-4c26-b1d3-3fba7f0a464c",
   "metadata": {},
   "outputs": [],
   "source": [
    "class Sets:\n",
    "    def __init__(self,s):\n",
    "        self.s = s\n",
    "        \n",
    "    def subsets(self, set):\n",
    "        return self.subsets_rec([], sorted(set))\n",
    "    \n",
    "    def subsets_rec(self, current, set):\n",
    "        n = len(self.s)\n",
    "        if current == n:\n",
    "            print (set)\n",
    "            return\n",
    "        elif set[len(set)] == self.s[current]:\n",
    "            subsets_rec(self,current+1,set)\n",
    "        else:\n",
    "            subsets_rec(self,current+1,set)"
   ]
  },
  {
   "cell_type": "code",
   "execution_count": 55,
   "id": "ef081398-4801-4a96-8870-9cd1de53b4ec",
   "metadata": {},
   "outputs": [
    {
     "data": {
      "text/plain": [
       "[]"
      ]
     },
     "execution_count": 56,
     "metadata": {},
     "output_type": "execute_result"
    }
   ],
   "source": [
    "# Python3 program to find all subsets\n",
    "# by backtracking.\n",
    "\n",
    "# In the array A at every step we have two\n",
    "# choices for each element either we can\n",
    "# ignore the element or we can include the\n",
    "# element in our subset\n",
    "def subsetsUtil(A, subset, index):\n",
    "\tprint(*subset)\n",
    "\tfor i in range(index, len(A)):\n",
    "\t\t\n",
    "\t\t# include the A[i] in subset.\n",
    "\t\tsubset.append(A[i])\n",
    "\t\t\n",
    "\t\t# move onto the next element.\n",
    "\t\tsubsetsUtil(A, subset, i + 1)\n",
    "\t\t\n",
    "\t\t# exclude the A[i] from subset and\n",
    "\t\t# triggers backtracking.\n",
    "\t\tsubset.pop(-1)\n",
    "\treturn \n",
    "\n",
    "# below function returns the subsets of vector A.\n",
    "def subsets(A):\n",
    "\tglobal res\n",
    "\tsubset = []\n",
    "\t\n",
    "\t# keeps track of current element in vector A\n",
    "\tindex = 0\n",
    "\tsubsetsUtil(A, subset, index)\n",
    "\t\n",
    "# Driver Code\n",
    "\n",
    "# find the subsets of below vector.\n",
    "array = [1, 2, 3]\n",
    "\n",
    "# res will store all subsets.\n",
    "# O(2 ^ (number of elements inside array))\n",
    "# because at every step we have two choices\n",
    "# either include or ignore.\n",
    "subsets(array)\n",
    "\n",
    "# This code is contributed by SHUBHAMSINGH8410\n"
   ]
  },
  {
   "cell_type": "code",
   "execution_count": null,
   "id": "f9e5988b-c848-466a-8f1e-0a1bd4beeb86",
   "metadata": {},
   "outputs": [],
   "source": [
    "class Sets:\n",
    "    def __init__(self,s):\n",
    "        self.s = s \n",
    "        \n",
    "    def subsets(self, set):\n",
    "        return self.subsets_rec(sorted(set), [], 0)\n",
    "\n",
    "    def subsets_rec(self, set, s, index):\n",
    "        print(*s)\n",
    "        for i in range(index, len(set)):\n",
    "        # include the A[i] in subset.\n",
    "            s.append(set[i])\n",
    "        # move onto the next element.\n",
    "            subsets_rec(set, s, i + 1)\n",
    "        # exclude the A[i] from subset and\n",
    "        # triggers backtracking.\n",
    "        return  s.pop(-1)\n",
    "            \n",
    "\n",
    "s1 = Sets([])\n",
    "s1.subsets([1,2,3])"
   ]
  },
  {
   "cell_type": "code",
   "execution_count": 77,
   "id": "8daf980b-fb39-4076-9d44-f31fcbc435eb",
   "metadata": {},
   "outputs": [
    {
     "name": "stdout",
     "output_type": "stream",
     "text": [
      "[[], [6], [5], [5, 6], [4], [4, 6], [4, 5], [4, 5, 6]]\n"
     ]
    }
   ],
   "source": [
    "class Sets:\n",
    "    def __init__(self, s):\n",
    "        self.s = s\n",
    "        \n",
    "    def sub_sets(self, set):\n",
    "        return self.subsets_rec([], sorted(set))\n",
    "    \n",
    "    def subsets_rec(self, current, set):\n",
    "        if set:\n",
    "            return self.subsets_rec(current, set[1:]) + self.subsets_rec(current + [set[0]], set[1:])\n",
    "        return [current]\n",
    "\n",
    "print(Sets().sub_sets([4,5,6]))"
   ]
  },
  {
   "cell_type": "code",
   "execution_count": 79,
   "id": "0d4266c6-b379-4f18-baa2-6318452a4977",
   "metadata": {},
   "outputs": [
    {
     "data": {
      "text/plain": [
       "[1]"
      ]
     },
     "execution_count": 79,
     "metadata": {},
     "output_type": "execute_result"
    }
   ],
   "source": [
    "set = [1,2,3]\n",
    "[set[0]]"
   ]
  }
 ],
 "metadata": {
  "kernelspec": {
   "display_name": "Python 3 (ipykernel)",
   "language": "python",
   "name": "python3"
  },
  "language_info": {
   "codemirror_mode": {
    "name": "ipython",
    "version": 3
   },
   "file_extension": ".py",
   "mimetype": "text/x-python",
   "name": "python",
   "nbconvert_exporter": "python",
   "pygments_lexer": "ipython3",
   "version": "3.9.7"
  }
 },
 "nbformat": 4,
 "nbformat_minor": 5
}
